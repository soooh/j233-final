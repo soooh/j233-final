{
 "cells": [
  {
   "cell_type": "markdown",
   "metadata": {},
   "source": [
    "# Explore data"
   ]
  },
  {
   "cell_type": "code",
   "execution_count": 1,
   "metadata": {},
   "outputs": [
    {
     "data": {
      "text/plain": [
       "RendererRegistry.enable('mimetype')"
      ]
     },
     "execution_count": 1,
     "metadata": {},
     "output_type": "execute_result"
    }
   ],
   "source": [
    "import pandas as pd\n",
    "import altair as alt\n",
    "\n",
    "# Fallback to png for GitHub display\n",
    "alt.renderers.enable('mimetype')"
   ]
  },
  {
   "cell_type": "markdown",
   "metadata": {},
   "source": [
    "## Download the data \n",
    "\n",
    "I uploaded [the data to Google Drive](https://drive.google.com/file/d/1LZ9bCaLu0aWMlLW_Hjp7U3-0_R0hXzAG/view?usp=sharing) and added soo@berkeley.edu as a collaborator. Downloaded the file called `berkeley_311_clean.csv` and save it  as `raw_data/berkeley_311_clean.csv`."
   ]
  },
  {
   "cell_type": "markdown",
   "metadata": {},
   "source": [
    "## Import data"
   ]
  },
  {
   "cell_type": "code",
   "execution_count": 2,
   "metadata": {},
   "outputs": [
    {
     "data": {
      "text/html": [
       "<div>\n",
       "<style scoped>\n",
       "    .dataframe tbody tr th:only-of-type {\n",
       "        vertical-align: middle;\n",
       "    }\n",
       "\n",
       "    .dataframe tbody tr th {\n",
       "        vertical-align: top;\n",
       "    }\n",
       "\n",
       "    .dataframe thead th {\n",
       "        text-align: right;\n",
       "    }\n",
       "</style>\n",
       "<table border=\"1\" class=\"dataframe\">\n",
       "  <thead>\n",
       "    <tr style=\"text-align: right;\">\n",
       "      <th></th>\n",
       "      <th>Case_ID</th>\n",
       "      <th>Date_Opened</th>\n",
       "      <th>Case_Status</th>\n",
       "      <th>Date_Closed</th>\n",
       "      <th>Request_Category</th>\n",
       "      <th>Request_SubCategory</th>\n",
       "      <th>Request_Detail</th>\n",
       "      <th>Object_Type</th>\n",
       "      <th>APN</th>\n",
       "      <th>Street_Address</th>\n",
       "      <th>City</th>\n",
       "      <th>State</th>\n",
       "      <th>Neighborhood</th>\n",
       "      <th>Latitude</th>\n",
       "      <th>Longitude</th>\n",
       "      <th>Location</th>\n",
       "      <th>Close_Time</th>\n",
       "    </tr>\n",
       "  </thead>\n",
       "  <tbody>\n",
       "    <tr>\n",
       "      <th>0</th>\n",
       "      <td>121000877593</td>\n",
       "      <td>2021-09-16 06:23:23</td>\n",
       "      <td>Closed</td>\n",
       "      <td>2021-09-20 11:22:22</td>\n",
       "      <td>Facilities, Electrical &amp; Property Management</td>\n",
       "      <td>Parks/Marina Building Services</td>\n",
       "      <td>Keys / Locks</td>\n",
       "      <td>Property</td>\n",
       "      <td>NaN</td>\n",
       "      <td>Intersection of Browning and Addison, BERKELEY...</td>\n",
       "      <td>Berkeley</td>\n",
       "      <td>CA</td>\n",
       "      <td>Berkeley</td>\n",
       "      <td>NaN</td>\n",
       "      <td>NaN</td>\n",
       "      <td>NaN</td>\n",
       "      <td>4 days 04:58:59</td>\n",
       "    </tr>\n",
       "    <tr>\n",
       "      <th>1</th>\n",
       "      <td>121000876647</td>\n",
       "      <td>2021-09-13 10:50:00</td>\n",
       "      <td>Open</td>\n",
       "      <td>NaT</td>\n",
       "      <td>Refuse and Recycling</td>\n",
       "      <td>Residential</td>\n",
       "      <td>Residential Bulky Pickup</td>\n",
       "      <td>Property</td>\n",
       "      <td>054 180702800</td>\n",
       "      <td>1722 DWIGHT WAY</td>\n",
       "      <td>Berkeley</td>\n",
       "      <td>CA</td>\n",
       "      <td>Berkeley</td>\n",
       "      <td>37.862656</td>\n",
       "      <td>-122.275461</td>\n",
       "      <td>(37.86265624, -122.27546088)</td>\n",
       "      <td>NaN</td>\n",
       "    </tr>\n",
       "    <tr>\n",
       "      <th>2</th>\n",
       "      <td>121000809740</td>\n",
       "      <td>2020-11-06 16:51:00</td>\n",
       "      <td>Closed</td>\n",
       "      <td>2020-11-09 01:52:57</td>\n",
       "      <td>General Questions/information</td>\n",
       "      <td>Miscellaneous</td>\n",
       "      <td>Miscellaneous Service Request</td>\n",
       "      <td>Individual</td>\n",
       "      <td>NaN</td>\n",
       "      <td>NaN</td>\n",
       "      <td>Berkeley</td>\n",
       "      <td>CA</td>\n",
       "      <td>Berkeley</td>\n",
       "      <td>NaN</td>\n",
       "      <td>NaN</td>\n",
       "      <td>NaN</td>\n",
       "      <td>2 days 09:01:57</td>\n",
       "    </tr>\n",
       "    <tr>\n",
       "      <th>3</th>\n",
       "      <td>121000809739</td>\n",
       "      <td>2020-11-06 16:38:00</td>\n",
       "      <td>Closed</td>\n",
       "      <td>2020-11-09 01:41:12</td>\n",
       "      <td>General Questions/information</td>\n",
       "      <td>Miscellaneous</td>\n",
       "      <td>Miscellaneous Service Request</td>\n",
       "      <td>Property</td>\n",
       "      <td>060 249305600</td>\n",
       "      <td>1411 GRIZZLY PEAK BLVD</td>\n",
       "      <td>Berkeley</td>\n",
       "      <td>CA</td>\n",
       "      <td>Berkeley</td>\n",
       "      <td>37.884799</td>\n",
       "      <td>-122.247874</td>\n",
       "      <td>(37.88479918, -122.24787412)</td>\n",
       "      <td>2 days 09:03:12</td>\n",
       "    </tr>\n",
       "    <tr>\n",
       "      <th>4</th>\n",
       "      <td>121000793663</td>\n",
       "      <td>2020-09-01 11:32:00</td>\n",
       "      <td>Closed</td>\n",
       "      <td>2020-09-01 11:36:00</td>\n",
       "      <td>Other Account Services and Billing</td>\n",
       "      <td>Marina</td>\n",
       "      <td>Payment Collection - Marina</td>\n",
       "      <td>Individual</td>\n",
       "      <td>NaN</td>\n",
       "      <td>NaN</td>\n",
       "      <td>Berkeley</td>\n",
       "      <td>CA</td>\n",
       "      <td>Berkeley</td>\n",
       "      <td>NaN</td>\n",
       "      <td>NaN</td>\n",
       "      <td>NaN</td>\n",
       "      <td>0 days 00:04:00</td>\n",
       "    </tr>\n",
       "    <tr>\n",
       "      <th>...</th>\n",
       "      <td>...</td>\n",
       "      <td>...</td>\n",
       "      <td>...</td>\n",
       "      <td>...</td>\n",
       "      <td>...</td>\n",
       "      <td>...</td>\n",
       "      <td>...</td>\n",
       "      <td>...</td>\n",
       "      <td>...</td>\n",
       "      <td>...</td>\n",
       "      <td>...</td>\n",
       "      <td>...</td>\n",
       "      <td>...</td>\n",
       "      <td>...</td>\n",
       "      <td>...</td>\n",
       "      <td>...</td>\n",
       "      <td>...</td>\n",
       "    </tr>\n",
       "    <tr>\n",
       "      <th>648190</th>\n",
       "      <td>121000963461</td>\n",
       "      <td>2022-10-22 12:00:20</td>\n",
       "      <td>Open</td>\n",
       "      <td>NaT</td>\n",
       "      <td>General Questions/information</td>\n",
       "      <td>Miscellaneous</td>\n",
       "      <td>Miscellaneous Internet Request</td>\n",
       "      <td>Property</td>\n",
       "      <td>059 226603200</td>\n",
       "      <td>1413 BONITA AVE</td>\n",
       "      <td>Berkeley</td>\n",
       "      <td>CA</td>\n",
       "      <td>Berkeley</td>\n",
       "      <td>37.881127</td>\n",
       "      <td>-122.272577</td>\n",
       "      <td>(37.8811269, -122.2725769)</td>\n",
       "      <td>NaN</td>\n",
       "    </tr>\n",
       "    <tr>\n",
       "      <th>648191</th>\n",
       "      <td>121000963479</td>\n",
       "      <td>2022-10-22 22:52:40</td>\n",
       "      <td>Open</td>\n",
       "      <td>NaT</td>\n",
       "      <td>General Questions/information</td>\n",
       "      <td>Miscellaneous</td>\n",
       "      <td>Miscellaneous Internet Request</td>\n",
       "      <td>Individual</td>\n",
       "      <td>NaN</td>\n",
       "      <td>NaN</td>\n",
       "      <td>Berkeley</td>\n",
       "      <td>CA</td>\n",
       "      <td>Berkeley</td>\n",
       "      <td>NaN</td>\n",
       "      <td>NaN</td>\n",
       "      <td>NaN</td>\n",
       "      <td>NaN</td>\n",
       "    </tr>\n",
       "    <tr>\n",
       "      <th>648192</th>\n",
       "      <td>121000963164</td>\n",
       "      <td>2022-10-20 19:50:00</td>\n",
       "      <td>Closed</td>\n",
       "      <td>2022-10-22 07:12:00</td>\n",
       "      <td>General Questions/information</td>\n",
       "      <td>Miscellaneous</td>\n",
       "      <td>Miscellaneous Internet Request</td>\n",
       "      <td>Property</td>\n",
       "      <td>054 173001100</td>\n",
       "      <td>1617 STUART ST</td>\n",
       "      <td>Berkeley</td>\n",
       "      <td>CA</td>\n",
       "      <td>Berkeley</td>\n",
       "      <td>37.857543</td>\n",
       "      <td>-122.276810</td>\n",
       "      <td>(37.85754346, -122.27680958)</td>\n",
       "      <td>1 days 11:22:00</td>\n",
       "    </tr>\n",
       "    <tr>\n",
       "      <th>648193</th>\n",
       "      <td>121000963464</td>\n",
       "      <td>2022-10-22 13:51:47</td>\n",
       "      <td>Open</td>\n",
       "      <td>NaT</td>\n",
       "      <td>General Questions/information</td>\n",
       "      <td>Miscellaneous</td>\n",
       "      <td>Miscellaneous Internet Request</td>\n",
       "      <td>Individual</td>\n",
       "      <td>NaN</td>\n",
       "      <td>NaN</td>\n",
       "      <td>Berkeley</td>\n",
       "      <td>CA</td>\n",
       "      <td>Berkeley</td>\n",
       "      <td>NaN</td>\n",
       "      <td>NaN</td>\n",
       "      <td>NaN</td>\n",
       "      <td>NaN</td>\n",
       "    </tr>\n",
       "    <tr>\n",
       "      <th>648194</th>\n",
       "      <td>121000963336</td>\n",
       "      <td>2022-10-21 13:25:00</td>\n",
       "      <td>Closed</td>\n",
       "      <td>2022-10-22 07:40:09</td>\n",
       "      <td>Streets, Utilities, and Transportation</td>\n",
       "      <td>Clean City Program</td>\n",
       "      <td>Illegal Dumping - City Property</td>\n",
       "      <td>Property</td>\n",
       "      <td>052 155202300</td>\n",
       "      <td>1908 WOOLSEY ST</td>\n",
       "      <td>Berkeley</td>\n",
       "      <td>CA</td>\n",
       "      <td>Berkeley</td>\n",
       "      <td>37.851653</td>\n",
       "      <td>-122.269543</td>\n",
       "      <td>(37.85165348, -122.26954337)</td>\n",
       "      <td>0 days 18:15:09</td>\n",
       "    </tr>\n",
       "  </tbody>\n",
       "</table>\n",
       "<p>648195 rows × 17 columns</p>\n",
       "</div>"
      ],
      "text/plain": [
       "             Case_ID         Date_Opened Case_Status         Date_Closed  \\\n",
       "0       121000877593 2021-09-16 06:23:23      Closed 2021-09-20 11:22:22   \n",
       "1       121000876647 2021-09-13 10:50:00        Open                 NaT   \n",
       "2       121000809740 2020-11-06 16:51:00      Closed 2020-11-09 01:52:57   \n",
       "3       121000809739 2020-11-06 16:38:00      Closed 2020-11-09 01:41:12   \n",
       "4       121000793663 2020-09-01 11:32:00      Closed 2020-09-01 11:36:00   \n",
       "...              ...                 ...         ...                 ...   \n",
       "648190  121000963461 2022-10-22 12:00:20        Open                 NaT   \n",
       "648191  121000963479 2022-10-22 22:52:40        Open                 NaT   \n",
       "648192  121000963164 2022-10-20 19:50:00      Closed 2022-10-22 07:12:00   \n",
       "648193  121000963464 2022-10-22 13:51:47        Open                 NaT   \n",
       "648194  121000963336 2022-10-21 13:25:00      Closed 2022-10-22 07:40:09   \n",
       "\n",
       "                                    Request_Category  \\\n",
       "0       Facilities, Electrical & Property Management   \n",
       "1                               Refuse and Recycling   \n",
       "2                      General Questions/information   \n",
       "3                      General Questions/information   \n",
       "4                 Other Account Services and Billing   \n",
       "...                                              ...   \n",
       "648190                 General Questions/information   \n",
       "648191                 General Questions/information   \n",
       "648192                 General Questions/information   \n",
       "648193                 General Questions/information   \n",
       "648194        Streets, Utilities, and Transportation   \n",
       "\n",
       "                   Request_SubCategory                   Request_Detail  \\\n",
       "0       Parks/Marina Building Services                     Keys / Locks   \n",
       "1                          Residential         Residential Bulky Pickup   \n",
       "2                        Miscellaneous    Miscellaneous Service Request   \n",
       "3                        Miscellaneous    Miscellaneous Service Request   \n",
       "4                               Marina      Payment Collection - Marina   \n",
       "...                                ...                              ...   \n",
       "648190                   Miscellaneous   Miscellaneous Internet Request   \n",
       "648191                   Miscellaneous   Miscellaneous Internet Request   \n",
       "648192                   Miscellaneous   Miscellaneous Internet Request   \n",
       "648193                   Miscellaneous   Miscellaneous Internet Request   \n",
       "648194              Clean City Program  Illegal Dumping - City Property   \n",
       "\n",
       "       Object_Type            APN  \\\n",
       "0         Property            NaN   \n",
       "1         Property  054 180702800   \n",
       "2       Individual            NaN   \n",
       "3         Property  060 249305600   \n",
       "4       Individual            NaN   \n",
       "...            ...            ...   \n",
       "648190    Property  059 226603200   \n",
       "648191  Individual            NaN   \n",
       "648192    Property  054 173001100   \n",
       "648193  Individual            NaN   \n",
       "648194    Property  052 155202300   \n",
       "\n",
       "                                           Street_Address      City State  \\\n",
       "0       Intersection of Browning and Addison, BERKELEY...  Berkeley    CA   \n",
       "1                                         1722 DWIGHT WAY  Berkeley    CA   \n",
       "2                                                     NaN  Berkeley    CA   \n",
       "3                                  1411 GRIZZLY PEAK BLVD  Berkeley    CA   \n",
       "4                                                     NaN  Berkeley    CA   \n",
       "...                                                   ...       ...   ...   \n",
       "648190                                    1413 BONITA AVE  Berkeley    CA   \n",
       "648191                                                NaN  Berkeley    CA   \n",
       "648192                                     1617 STUART ST  Berkeley    CA   \n",
       "648193                                                NaN  Berkeley    CA   \n",
       "648194                                    1908 WOOLSEY ST  Berkeley    CA   \n",
       "\n",
       "       Neighborhood   Latitude   Longitude                      Location  \\\n",
       "0          Berkeley        NaN         NaN                           NaN   \n",
       "1          Berkeley  37.862656 -122.275461  (37.86265624, -122.27546088)   \n",
       "2          Berkeley        NaN         NaN                           NaN   \n",
       "3          Berkeley  37.884799 -122.247874  (37.88479918, -122.24787412)   \n",
       "4          Berkeley        NaN         NaN                           NaN   \n",
       "...             ...        ...         ...                           ...   \n",
       "648190     Berkeley  37.881127 -122.272577    (37.8811269, -122.2725769)   \n",
       "648191     Berkeley        NaN         NaN                           NaN   \n",
       "648192     Berkeley  37.857543 -122.276810  (37.85754346, -122.27680958)   \n",
       "648193     Berkeley        NaN         NaN                           NaN   \n",
       "648194     Berkeley  37.851653 -122.269543  (37.85165348, -122.26954337)   \n",
       "\n",
       "             Close_Time  \n",
       "0       4 days 04:58:59  \n",
       "1                   NaN  \n",
       "2       2 days 09:01:57  \n",
       "3       2 days 09:03:12  \n",
       "4       0 days 00:04:00  \n",
       "...                 ...  \n",
       "648190              NaN  \n",
       "648191              NaN  \n",
       "648192  1 days 11:22:00  \n",
       "648193              NaN  \n",
       "648194  0 days 18:15:09  \n",
       "\n",
       "[648195 rows x 17 columns]"
      ]
     },
     "execution_count": 2,
     "metadata": {},
     "output_type": "execute_result"
    }
   ],
   "source": [
    "# Note the file name below: I use ../ to go up one directory\n",
    "berkeley_311 = pd.read_csv('raw_data/berkeley_311_clean.csv', \n",
    "    dtype={\n",
    "        'Case_ID': object,\n",
    "    },\n",
    "    parse_dates=['Date_Opened', 'Date_Closed', 'Close_Time']\n",
    ")\n",
    "berkeley_311"
   ]
  },
  {
   "cell_type": "code",
   "execution_count": 3,
   "metadata": {},
   "outputs": [],
   "source": [
    "calls_by_month = berkeley_311.groupby([pd.Grouper(key='Date_Opened', axis=0, freq='M')]).count()[['Case_ID']].reset_index()\n",
    "\n",
    "# Rename column to `COUNT`\n",
    "calls_by_month.rename(columns={'Case_ID': 'Count'}, inplace=True)"
   ]
  },
  {
   "cell_type": "code",
   "execution_count": 5,
   "metadata": {},
   "outputs": [
    {
     "data": {
      "application/vnd.vegalite.v4+json": {
       "$schema": "https://vega.github.io/schema/vega-lite/v4.17.0.json",
       "config": {
        "view": {
         "continuousHeight": 300,
         "continuousWidth": 400
        }
       },
       "data": {
        "name": "data-603c97055797458ff1d04d32669b979d"
       },
       "datasets": {
        "data-603c97055797458ff1d04d32669b979d": [
         {
          "Count": 4,
          "Date_Opened": "2010-02-28T00:00:00"
         },
         {
          "Count": 217,
          "Date_Opened": "2010-03-31T00:00:00"
         },
         {
          "Count": 2084,
          "Date_Opened": "2010-04-30T00:00:00"
         },
         {
          "Count": 2095,
          "Date_Opened": "2010-05-31T00:00:00"
         },
         {
          "Count": 2749,
          "Date_Opened": "2010-06-30T00:00:00"
         },
         {
          "Count": 2845,
          "Date_Opened": "2010-07-31T00:00:00"
         },
         {
          "Count": 2587,
          "Date_Opened": "2010-08-31T00:00:00"
         },
         {
          "Count": 2490,
          "Date_Opened": "2010-09-30T00:00:00"
         },
         {
          "Count": 2857,
          "Date_Opened": "2010-10-31T00:00:00"
         },
         {
          "Count": 3526,
          "Date_Opened": "2010-11-30T00:00:00"
         },
         {
          "Count": 2890,
          "Date_Opened": "2010-12-31T00:00:00"
         },
         {
          "Count": 3137,
          "Date_Opened": "2011-01-31T00:00:00"
         },
         {
          "Count": 2611,
          "Date_Opened": "2011-02-28T00:00:00"
         },
         {
          "Count": 3366,
          "Date_Opened": "2011-03-31T00:00:00"
         },
         {
          "Count": 3213,
          "Date_Opened": "2011-04-30T00:00:00"
         },
         {
          "Count": 3112,
          "Date_Opened": "2011-05-31T00:00:00"
         },
         {
          "Count": 3503,
          "Date_Opened": "2011-06-30T00:00:00"
         },
         {
          "Count": 3327,
          "Date_Opened": "2011-07-31T00:00:00"
         },
         {
          "Count": 3781,
          "Date_Opened": "2011-08-31T00:00:00"
         },
         {
          "Count": 3459,
          "Date_Opened": "2011-09-30T00:00:00"
         },
         {
          "Count": 3500,
          "Date_Opened": "2011-10-31T00:00:00"
         },
         {
          "Count": 3435,
          "Date_Opened": "2011-11-30T00:00:00"
         },
         {
          "Count": 3264,
          "Date_Opened": "2011-12-31T00:00:00"
         },
         {
          "Count": 3727,
          "Date_Opened": "2012-01-31T00:00:00"
         },
         {
          "Count": 3644,
          "Date_Opened": "2012-02-29T00:00:00"
         },
         {
          "Count": 4135,
          "Date_Opened": "2012-03-31T00:00:00"
         },
         {
          "Count": 3921,
          "Date_Opened": "2012-04-30T00:00:00"
         },
         {
          "Count": 3933,
          "Date_Opened": "2012-05-31T00:00:00"
         },
         {
          "Count": 3812,
          "Date_Opened": "2012-06-30T00:00:00"
         },
         {
          "Count": 3615,
          "Date_Opened": "2012-07-31T00:00:00"
         },
         {
          "Count": 4201,
          "Date_Opened": "2012-08-31T00:00:00"
         },
         {
          "Count": 3633,
          "Date_Opened": "2012-09-30T00:00:00"
         },
         {
          "Count": 4264,
          "Date_Opened": "2012-10-31T00:00:00"
         },
         {
          "Count": 3831,
          "Date_Opened": "2012-11-30T00:00:00"
         },
         {
          "Count": 3927,
          "Date_Opened": "2012-12-31T00:00:00"
         },
         {
          "Count": 4399,
          "Date_Opened": "2013-01-31T00:00:00"
         },
         {
          "Count": 3563,
          "Date_Opened": "2013-02-28T00:00:00"
         },
         {
          "Count": 4004,
          "Date_Opened": "2013-03-31T00:00:00"
         },
         {
          "Count": 4733,
          "Date_Opened": "2013-04-30T00:00:00"
         },
         {
          "Count": 4496,
          "Date_Opened": "2013-05-31T00:00:00"
         },
         {
          "Count": 3964,
          "Date_Opened": "2013-06-30T00:00:00"
         },
         {
          "Count": 4254,
          "Date_Opened": "2013-07-31T00:00:00"
         },
         {
          "Count": 4307,
          "Date_Opened": "2013-08-31T00:00:00"
         },
         {
          "Count": 4460,
          "Date_Opened": "2013-09-30T00:00:00"
         },
         {
          "Count": 4571,
          "Date_Opened": "2013-10-31T00:00:00"
         },
         {
          "Count": 3860,
          "Date_Opened": "2013-11-30T00:00:00"
         },
         {
          "Count": 3698,
          "Date_Opened": "2013-12-31T00:00:00"
         },
         {
          "Count": 4365,
          "Date_Opened": "2014-01-31T00:00:00"
         },
         {
          "Count": 3775,
          "Date_Opened": "2014-02-28T00:00:00"
         },
         {
          "Count": 4867,
          "Date_Opened": "2014-03-31T00:00:00"
         },
         {
          "Count": 4729,
          "Date_Opened": "2014-04-30T00:00:00"
         },
         {
          "Count": 4470,
          "Date_Opened": "2014-05-31T00:00:00"
         },
         {
          "Count": 4962,
          "Date_Opened": "2014-06-30T00:00:00"
         },
         {
          "Count": 4767,
          "Date_Opened": "2014-07-31T00:00:00"
         },
         {
          "Count": 4365,
          "Date_Opened": "2014-08-31T00:00:00"
         },
         {
          "Count": 4660,
          "Date_Opened": "2014-09-30T00:00:00"
         },
         {
          "Count": 4531,
          "Date_Opened": "2014-10-31T00:00:00"
         },
         {
          "Count": 3386,
          "Date_Opened": "2014-11-30T00:00:00"
         },
         {
          "Count": 4654,
          "Date_Opened": "2014-12-31T00:00:00"
         },
         {
          "Count": 4071,
          "Date_Opened": "2015-01-31T00:00:00"
         },
         {
          "Count": 3873,
          "Date_Opened": "2015-02-28T00:00:00"
         },
         {
          "Count": 4457,
          "Date_Opened": "2015-03-31T00:00:00"
         },
         {
          "Count": 3969,
          "Date_Opened": "2015-04-30T00:00:00"
         },
         {
          "Count": 3823,
          "Date_Opened": "2015-05-31T00:00:00"
         },
         {
          "Count": 4135,
          "Date_Opened": "2015-06-30T00:00:00"
         },
         {
          "Count": 5054,
          "Date_Opened": "2015-07-31T00:00:00"
         },
         {
          "Count": 4151,
          "Date_Opened": "2015-08-31T00:00:00"
         },
         {
          "Count": 4518,
          "Date_Opened": "2015-09-30T00:00:00"
         },
         {
          "Count": 4222,
          "Date_Opened": "2015-10-31T00:00:00"
         },
         {
          "Count": 3846,
          "Date_Opened": "2015-11-30T00:00:00"
         },
         {
          "Count": 4215,
          "Date_Opened": "2015-12-31T00:00:00"
         },
         {
          "Count": 3955,
          "Date_Opened": "2016-01-31T00:00:00"
         },
         {
          "Count": 3936,
          "Date_Opened": "2016-02-29T00:00:00"
         },
         {
          "Count": 5017,
          "Date_Opened": "2016-03-31T00:00:00"
         },
         {
          "Count": 4161,
          "Date_Opened": "2016-04-30T00:00:00"
         },
         {
          "Count": 4234,
          "Date_Opened": "2016-05-31T00:00:00"
         },
         {
          "Count": 4400,
          "Date_Opened": "2016-06-30T00:00:00"
         },
         {
          "Count": 3901,
          "Date_Opened": "2016-07-31T00:00:00"
         },
         {
          "Count": 4737,
          "Date_Opened": "2016-08-31T00:00:00"
         },
         {
          "Count": 4321,
          "Date_Opened": "2016-09-30T00:00:00"
         },
         {
          "Count": 3835,
          "Date_Opened": "2016-10-31T00:00:00"
         },
         {
          "Count": 3992,
          "Date_Opened": "2016-11-30T00:00:00"
         },
         {
          "Count": 4084,
          "Date_Opened": "2016-12-31T00:00:00"
         },
         {
          "Count": 4225,
          "Date_Opened": "2017-01-31T00:00:00"
         },
         {
          "Count": 3636,
          "Date_Opened": "2017-02-28T00:00:00"
         },
         {
          "Count": 4831,
          "Date_Opened": "2017-03-31T00:00:00"
         },
         {
          "Count": 3971,
          "Date_Opened": "2017-04-30T00:00:00"
         },
         {
          "Count": 4690,
          "Date_Opened": "2017-05-31T00:00:00"
         },
         {
          "Count": 4942,
          "Date_Opened": "2017-06-30T00:00:00"
         },
         {
          "Count": 4062,
          "Date_Opened": "2017-07-31T00:00:00"
         },
         {
          "Count": 4335,
          "Date_Opened": "2017-08-31T00:00:00"
         },
         {
          "Count": 4236,
          "Date_Opened": "2017-09-30T00:00:00"
         },
         {
          "Count": 4437,
          "Date_Opened": "2017-10-31T00:00:00"
         },
         {
          "Count": 4082,
          "Date_Opened": "2017-11-30T00:00:00"
         },
         {
          "Count": 3878,
          "Date_Opened": "2017-12-31T00:00:00"
         },
         {
          "Count": 4374,
          "Date_Opened": "2018-01-31T00:00:00"
         },
         {
          "Count": 3959,
          "Date_Opened": "2018-02-28T00:00:00"
         },
         {
          "Count": 5442,
          "Date_Opened": "2018-03-31T00:00:00"
         },
         {
          "Count": 5063,
          "Date_Opened": "2018-04-30T00:00:00"
         },
         {
          "Count": 5363,
          "Date_Opened": "2018-05-31T00:00:00"
         },
         {
          "Count": 5052,
          "Date_Opened": "2018-06-30T00:00:00"
         },
         {
          "Count": 4940,
          "Date_Opened": "2018-07-31T00:00:00"
         },
         {
          "Count": 5422,
          "Date_Opened": "2018-08-31T00:00:00"
         },
         {
          "Count": 4459,
          "Date_Opened": "2018-09-30T00:00:00"
         },
         {
          "Count": 5178,
          "Date_Opened": "2018-10-31T00:00:00"
         },
         {
          "Count": 4420,
          "Date_Opened": "2018-11-30T00:00:00"
         },
         {
          "Count": 3964,
          "Date_Opened": "2018-12-31T00:00:00"
         },
         {
          "Count": 4572,
          "Date_Opened": "2019-01-31T00:00:00"
         },
         {
          "Count": 4257,
          "Date_Opened": "2019-02-28T00:00:00"
         },
         {
          "Count": 4717,
          "Date_Opened": "2019-03-31T00:00:00"
         },
         {
          "Count": 5095,
          "Date_Opened": "2019-04-30T00:00:00"
         },
         {
          "Count": 5324,
          "Date_Opened": "2019-05-31T00:00:00"
         },
         {
          "Count": 5167,
          "Date_Opened": "2019-06-30T00:00:00"
         },
         {
          "Count": 5607,
          "Date_Opened": "2019-07-31T00:00:00"
         },
         {
          "Count": 5443,
          "Date_Opened": "2019-08-31T00:00:00"
         },
         {
          "Count": 4930,
          "Date_Opened": "2019-09-30T00:00:00"
         },
         {
          "Count": 5220,
          "Date_Opened": "2019-10-31T00:00:00"
         },
         {
          "Count": 4138,
          "Date_Opened": "2019-11-30T00:00:00"
         },
         {
          "Count": 4163,
          "Date_Opened": "2019-12-31T00:00:00"
         },
         {
          "Count": 4399,
          "Date_Opened": "2020-01-31T00:00:00"
         },
         {
          "Count": 4062,
          "Date_Opened": "2020-02-29T00:00:00"
         },
         {
          "Count": 4202,
          "Date_Opened": "2020-03-31T00:00:00"
         },
         {
          "Count": 3801,
          "Date_Opened": "2020-04-30T00:00:00"
         },
         {
          "Count": 4591,
          "Date_Opened": "2020-05-31T00:00:00"
         },
         {
          "Count": 5518,
          "Date_Opened": "2020-06-30T00:00:00"
         },
         {
          "Count": 5271,
          "Date_Opened": "2020-07-31T00:00:00"
         },
         {
          "Count": 5079,
          "Date_Opened": "2020-08-31T00:00:00"
         },
         {
          "Count": 5009,
          "Date_Opened": "2020-09-30T00:00:00"
         },
         {
          "Count": 5434,
          "Date_Opened": "2020-10-31T00:00:00"
         },
         {
          "Count": 4228,
          "Date_Opened": "2020-11-30T00:00:00"
         },
         {
          "Count": 4551,
          "Date_Opened": "2020-12-31T00:00:00"
         },
         {
          "Count": 4025,
          "Date_Opened": "2021-01-31T00:00:00"
         },
         {
          "Count": 4265,
          "Date_Opened": "2021-02-28T00:00:00"
         },
         {
          "Count": 5214,
          "Date_Opened": "2021-03-31T00:00:00"
         },
         {
          "Count": 4783,
          "Date_Opened": "2021-04-30T00:00:00"
         },
         {
          "Count": 4718,
          "Date_Opened": "2021-05-31T00:00:00"
         },
         {
          "Count": 5476,
          "Date_Opened": "2021-06-30T00:00:00"
         },
         {
          "Count": 4907,
          "Date_Opened": "2021-07-31T00:00:00"
         },
         {
          "Count": 6044,
          "Date_Opened": "2021-08-31T00:00:00"
         },
         {
          "Count": 5528,
          "Date_Opened": "2021-09-30T00:00:00"
         },
         {
          "Count": 5380,
          "Date_Opened": "2021-10-31T00:00:00"
         },
         {
          "Count": 5115,
          "Date_Opened": "2021-11-30T00:00:00"
         },
         {
          "Count": 4877,
          "Date_Opened": "2021-12-31T00:00:00"
         },
         {
          "Count": 4767,
          "Date_Opened": "2022-01-31T00:00:00"
         },
         {
          "Count": 4406,
          "Date_Opened": "2022-02-28T00:00:00"
         },
         {
          "Count": 5190,
          "Date_Opened": "2022-03-31T00:00:00"
         },
         {
          "Count": 4364,
          "Date_Opened": "2022-04-30T00:00:00"
         },
         {
          "Count": 5564,
          "Date_Opened": "2022-05-31T00:00:00"
         },
         {
          "Count": 5498,
          "Date_Opened": "2022-06-30T00:00:00"
         },
         {
          "Count": 4860,
          "Date_Opened": "2022-07-31T00:00:00"
         },
         {
          "Count": 5707,
          "Date_Opened": "2022-08-31T00:00:00"
         },
         {
          "Count": 4977,
          "Date_Opened": "2022-09-30T00:00:00"
         },
         {
          "Count": 3349,
          "Date_Opened": "2022-10-31T00:00:00"
         }
        ]
       },
       "encoding": {
        "x": {
         "field": "Date_Opened",
         "type": "temporal"
        },
        "y": {
         "field": "Count",
         "type": "quantitative"
        }
       },
       "mark": "bar"
      },
      "text/plain": [
       "<VegaLite 4 object>\n",
       "\n",
       "If you see this message, it means the renderer has not been properly enabled\n",
       "for the frontend that you are using. For more information, see\n",
       "https://altair-viz.github.io/user_guide/troubleshooting.html\n"
      ]
     },
     "execution_count": 5,
     "metadata": {},
     "output_type": "execute_result"
    }
   ],
   "source": [
    "chart = alt.Chart(calls_by_month).mark_bar().encode(\n",
    "    x='Date_Opened:T',\n",
    "    y='Count'\n",
    ")\n",
    "chart"
   ]
  },
  {
   "cell_type": "code",
   "execution_count": null,
   "metadata": {},
   "outputs": [],
   "source": []
  }
 ],
 "metadata": {
  "kernelspec": {
   "display_name": "Python 3.9.4 64-bit ('j233-files-3.9.4')",
   "language": "python",
   "name": "python3"
  },
  "language_info": {
   "codemirror_mode": {
    "name": "ipython",
    "version": 3
   },
   "file_extension": ".py",
   "mimetype": "text/x-python",
   "name": "python",
   "nbconvert_exporter": "python",
   "pygments_lexer": "ipython3",
   "version": "3.9.4"
  },
  "orig_nbformat": 4,
  "vscode": {
   "interpreter": {
    "hash": "fb04f89b61a62c03d47bf47357bc88692aa1a75ad45736fa559ef9e95df90447"
   }
  }
 },
 "nbformat": 4,
 "nbformat_minor": 2
}
